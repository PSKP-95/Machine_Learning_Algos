{
 "cells": [
  {
   "cell_type": "code",
   "execution_count": 2,
   "metadata": {},
   "outputs": [],
   "source": [
    "from tqdm import tqdm\n",
    "import requests\n",
    "import numpy as np"
   ]
  },
  {
   "cell_type": "markdown",
   "metadata": {},
   "source": [
    "## Download Dataset"
   ]
  },
  {
   "cell_type": "code",
   "execution_count": 15,
   "metadata": {},
   "outputs": [
    {
     "name": "stderr",
     "output_type": "stream",
     "text": [
      "2KB [00:00, 1003.54KB/s]                                             \n"
     ]
    }
   ],
   "source": [
    "url = \"https://drive.google.com/uc?id=1xR4-TzSQL0kch6bad4nFmvPohlEEQN0_&export=download\"\n",
    "chunk_size = 1024\n",
    "r = requests.get(url, stream = True)\n",
    "size = int(r.headers['content-length'])\n",
    "try:\n",
    "    with open(\"data.txt\",'wb') as f:\n",
    "        for data in tqdm(iterable = r.iter_content(chunk_size = chunk_size),\n",
    "                         total = size/chunk_size, unit = 'KB'):\n",
    "            f.write(data)\n",
    "except e:\n",
    "    print(e)\n",
    "    print('Downloading stopped\\n')"
   ]
  },
  {
   "cell_type": "markdown",
   "metadata": {},
   "source": [
    "## Load Data"
   ]
  },
  {
   "cell_type": "code",
   "execution_count": 25,
   "metadata": {},
   "outputs": [
    {
     "data": {
      "text/plain": [
       "array([[0.02523375],\n",
       "       [0.29023785]])"
      ]
     },
     "execution_count": 25,
     "metadata": {},
     "output_type": "execute_result"
    }
   ],
   "source": [
    "data = np.loadtxt(\"data.txt\",delimiter=\",\")\n",
    "theta = np.random.rand(2,1)\n",
    "alpha = 0.01\n",
    "iterations = 1000\n",
    "theta"
   ]
  },
  {
   "cell_type": "markdown",
   "metadata": {},
   "source": [
    "## Algorithm"
   ]
  },
  {
   "cell_type": "markdown",
   "metadata": {},
   "source": [
    "<img src=\"https://i.ytimg.com/vi/b4Vyma9wPHo/maxresdefault.jpg\">\n",
    "<img src=\"https://media.geeksforgeeks.org/wp-content/uploads/Cost-Function.jpg\">"
   ]
  },
  {
   "cell_type": "code",
   "execution_count": 22,
   "metadata": {},
   "outputs": [],
   "source": [
    "def gradient_descent(data, alpha, iterations, theta):\n",
    "    # y is vector m*1\n",
    "    y = data[:, 1:2]\n",
    "    m = len(y)\n",
    "    X = np.append(np.ones((m, 1)), data[:, 0:1], axis=1)\n",
    "    for _ in range(iterations):\n",
    "        theta = theta - (alpha / m) * np.transpose([((X.dot(theta) - y) * (X)).sum(axis=0)])\n",
    "    return theta"
   ]
  },
  {
   "cell_type": "markdown",
   "metadata": {},
   "source": [
    "## Execute Gradient Descent"
   ]
  },
  {
   "cell_type": "code",
   "execution_count": 26,
   "metadata": {},
   "outputs": [
    {
     "data": {
      "text/plain": [
       "array([[-3.24204156],\n",
       "       [ 1.12735844]])"
      ]
     },
     "execution_count": 26,
     "metadata": {},
     "output_type": "execute_result"
    }
   ],
   "source": [
    "gradient_descent(data,alpha,iterations,theta)"
   ]
  },
  {
   "cell_type": "code",
   "execution_count": null,
   "metadata": {},
   "outputs": [],
   "source": []
  }
 ],
 "metadata": {
  "kernelspec": {
   "display_name": "Python 3",
   "language": "python",
   "name": "python3"
  },
  "language_info": {
   "codemirror_mode": {
    "name": "ipython",
    "version": 3
   },
   "file_extension": ".py",
   "mimetype": "text/x-python",
   "name": "python",
   "nbconvert_exporter": "python",
   "pygments_lexer": "ipython3",
   "version": "3.7.3"
  }
 },
 "nbformat": 4,
 "nbformat_minor": 4
}
